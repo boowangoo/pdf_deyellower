{
 "cells": [
  {
   "cell_type": "code",
   "execution_count": 3,
   "metadata": {},
   "outputs": [
    {
     "name": "stdout",
     "output_type": "stream",
     "text": [
      "['G8RNXzR.jpeg']\n"
     ]
    }
   ],
   "source": [
    "import os\n",
    "\n",
    "samples = os.listdir('samples')\n",
    "print(samples)\n"
   ]
  },
  {
   "cell_type": "code",
   "execution_count": null,
   "metadata": {},
   "outputs": [],
   "source": [
    "import cv2\n",
    "\n",
    "threshes = []\n",
    "\n",
    "for img_file in samples:\n",
    "    img = cv2.imread('samples/' + img_file)\n",
    "    gray = cv2.cvtColor(img, cv2.COLOR_BGR2GRAY)\n",
    "    # mess with this\n",
    "    ret, thresh = cv2.threshold(gray, 170, 255, 0)\n",
    "    cv2.imwrite('output/' + img_file, thresh)\n",
    "\n"
   ]
  }
 ],
 "metadata": {
  "kernelspec": {
   "display_name": "main",
   "language": "python",
   "name": "python3"
  },
  "language_info": {
   "codemirror_mode": {
    "name": "ipython",
    "version": 3
   },
   "file_extension": ".py",
   "mimetype": "text/x-python",
   "name": "python",
   "nbconvert_exporter": "python",
   "pygments_lexer": "ipython3",
   "version": "3.12.0"
  }
 },
 "nbformat": 4,
 "nbformat_minor": 2
}
